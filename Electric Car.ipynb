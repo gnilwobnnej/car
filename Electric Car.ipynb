{
 "cells": [
  {
   "cell_type": "code",
   "execution_count": 29,
   "id": "bbaf6d27",
   "metadata": {},
   "outputs": [],
   "source": [
    "import pandas as pd\n",
    "import numpy as np\n",
    "import matplotlib.pyplot as plt\n",
    "import seaborn as sb\n",
    "\n",
    "home_rate = .14\n",
    "public_rate = 0.30\n",
    "public_activation_fee = 1.50\n",
    "\n",
    "gas = 3.40\n",
    "mpg = 24.4"
   ]
  },
  {
   "cell_type": "code",
   "execution_count": 30,
   "id": "e01d89ef",
   "metadata": {},
   "outputs": [
    {
     "data": {
      "text/html": [
       "<div>\n",
       "<style scoped>\n",
       "    .dataframe tbody tr th:only-of-type {\n",
       "        vertical-align: middle;\n",
       "    }\n",
       "\n",
       "    .dataframe tbody tr th {\n",
       "        vertical-align: top;\n",
       "    }\n",
       "\n",
       "    .dataframe thead th {\n",
       "        text-align: right;\n",
       "    }\n",
       "</style>\n",
       "<table border=\"1\" class=\"dataframe\">\n",
       "  <thead>\n",
       "    <tr style=\"text-align: right;\">\n",
       "      <th></th>\n",
       "      <th>date</th>\n",
       "      <th>start_time</th>\n",
       "      <th>start_bat</th>\n",
       "      <th>end_time</th>\n",
       "      <th>end_bat</th>\n",
       "      <th>miles</th>\n",
       "      <th>average_m/kwh</th>\n",
       "    </tr>\n",
       "  </thead>\n",
       "  <tbody>\n",
       "    <tr>\n",
       "      <th>0</th>\n",
       "      <td>3/31/2025</td>\n",
       "      <td>8:34</td>\n",
       "      <td>95</td>\n",
       "      <td>9:26</td>\n",
       "      <td>82</td>\n",
       "      <td>21.4</td>\n",
       "      <td>5.5</td>\n",
       "    </tr>\n",
       "    <tr>\n",
       "      <th>1</th>\n",
       "      <td>3/31/2025</td>\n",
       "      <td>16:46</td>\n",
       "      <td>82</td>\n",
       "      <td>17:23</td>\n",
       "      <td>70</td>\n",
       "      <td>14.2</td>\n",
       "      <td>4.7</td>\n",
       "    </tr>\n",
       "    <tr>\n",
       "      <th>2</th>\n",
       "      <td>3/31/2025</td>\n",
       "      <td>20:16</td>\n",
       "      <td>70</td>\n",
       "      <td>20:53</td>\n",
       "      <td>46</td>\n",
       "      <td>30.3</td>\n",
       "      <td>4.5</td>\n",
       "    </tr>\n",
       "    <tr>\n",
       "      <th>3</th>\n",
       "      <td>4/1/2025</td>\n",
       "      <td>8:25</td>\n",
       "      <td>95</td>\n",
       "      <td>9:24</td>\n",
       "      <td>81</td>\n",
       "      <td>23.5</td>\n",
       "      <td>5.3</td>\n",
       "    </tr>\n",
       "    <tr>\n",
       "      <th>4</th>\n",
       "      <td>4/1/2025</td>\n",
       "      <td>16:42</td>\n",
       "      <td>81</td>\n",
       "      <td>16:03</td>\n",
       "      <td>60</td>\n",
       "      <td>30.0</td>\n",
       "      <td>5.0</td>\n",
       "    </tr>\n",
       "  </tbody>\n",
       "</table>\n",
       "</div>"
      ],
      "text/plain": [
       "        date start_time  start_bat end_time  end_bat  miles  average_m/kwh\n",
       "0  3/31/2025       8:34         95     9:26       82   21.4            5.5\n",
       "1  3/31/2025      16:46         82    17:23       70   14.2            4.7\n",
       "2  3/31/2025      20:16         70    20:53       46   30.3            4.5\n",
       "3   4/1/2025       8:25         95     9:24       81   23.5            5.3\n",
       "4   4/1/2025      16:42         81    16:03       60   30.0            5.0"
      ]
     },
     "execution_count": 30,
     "metadata": {},
     "output_type": "execute_result"
    }
   ],
   "source": [
    "charging_path = \"charging.csv\"\n",
    "driving_path = \"driving.csv\"\n",
    "\n",
    "charging_data = pd.read_csv(charging_path)\n",
    "driving_data = pd.read_csv(driving_path)\n",
    "\n",
    "\n",
    "\n",
    "driving_data.head()\n"
   ]
  },
  {
   "cell_type": "code",
   "execution_count": 31,
   "id": "1090ed7d",
   "metadata": {},
   "outputs": [
    {
     "data": {
      "text/html": [
       "<div>\n",
       "<style scoped>\n",
       "    .dataframe tbody tr th:only-of-type {\n",
       "        vertical-align: middle;\n",
       "    }\n",
       "\n",
       "    .dataframe tbody tr th {\n",
       "        vertical-align: top;\n",
       "    }\n",
       "\n",
       "    .dataframe thead th {\n",
       "        text-align: right;\n",
       "    }\n",
       "</style>\n",
       "<table border=\"1\" class=\"dataframe\">\n",
       "  <thead>\n",
       "    <tr style=\"text-align: right;\">\n",
       "      <th></th>\n",
       "      <th>date</th>\n",
       "      <th>charge_place</th>\n",
       "      <th>charge_time</th>\n",
       "      <th>charge_amount</th>\n",
       "    </tr>\n",
       "  </thead>\n",
       "  <tbody>\n",
       "    <tr>\n",
       "      <th>0</th>\n",
       "      <td>3/31/2025</td>\n",
       "      <td>Home</td>\n",
       "      <td>1:58:35</td>\n",
       "      <td>13.4</td>\n",
       "    </tr>\n",
       "    <tr>\n",
       "      <th>1</th>\n",
       "      <td>4/1/2025</td>\n",
       "      <td>Home</td>\n",
       "      <td>2:28:12</td>\n",
       "      <td>16.8</td>\n",
       "    </tr>\n",
       "    <tr>\n",
       "      <th>2</th>\n",
       "      <td>4/2/2025</td>\n",
       "      <td>Home</td>\n",
       "      <td>1:28:56</td>\n",
       "      <td>10.0</td>\n",
       "    </tr>\n",
       "    <tr>\n",
       "      <th>3</th>\n",
       "      <td>4/3/2025</td>\n",
       "      <td>Home</td>\n",
       "      <td>1:58:33</td>\n",
       "      <td>13.4</td>\n",
       "    </tr>\n",
       "    <tr>\n",
       "      <th>4</th>\n",
       "      <td>4/4/2025</td>\n",
       "      <td>Home</td>\n",
       "      <td>1:58:31</td>\n",
       "      <td>13.4</td>\n",
       "    </tr>\n",
       "  </tbody>\n",
       "</table>\n",
       "</div>"
      ],
      "text/plain": [
       "        date charge_place charge_time  charge_amount\n",
       "0  3/31/2025         Home     1:58:35           13.4\n",
       "1   4/1/2025         Home     2:28:12           16.8\n",
       "2   4/2/2025         Home     1:28:56           10.0\n",
       "3   4/3/2025         Home     1:58:33           13.4\n",
       "4   4/4/2025         Home     1:58:31           13.4"
      ]
     },
     "execution_count": 31,
     "metadata": {},
     "output_type": "execute_result"
    }
   ],
   "source": [
    "charging_data.head()"
   ]
  },
  {
   "cell_type": "code",
   "execution_count": 32,
   "id": "4a871502",
   "metadata": {},
   "outputs": [],
   "source": [
    "def calculate_session_cost(row):\n",
    "    if row[\"charge_place\"].lower() == \"home\":\n",
    "        return row[\"charge_amount\"] * home_rate\n",
    "    elif row[\"charge_place\"].lower() == \"public\":\n",
    "        return (row[\"charge_amount\"] * public_rate) + public_activation_fee\n",
    "    else:\n",
    "        return 0"
   ]
  },
  {
   "cell_type": "code",
   "execution_count": 33,
   "id": "b645e159",
   "metadata": {},
   "outputs": [],
   "source": [
    "charging_data[\"cost\"] = charging_data.apply(calculate_session_cost, axis=1)"
   ]
  },
  {
   "cell_type": "code",
   "execution_count": 34,
   "id": "fa12f8f3",
   "metadata": {},
   "outputs": [],
   "source": [
    "charging_data[\"cost\"] = charging_data[\"cost\"].round(2)"
   ]
  },
  {
   "cell_type": "code",
   "execution_count": 35,
   "id": "fc8c0c57",
   "metadata": {},
   "outputs": [
    {
     "name": "stdout",
     "output_type": "stream",
     "text": [
      "        date charge_place charge_time  charge_amount  cost\n",
      "0  3/31/2025         Home     1:58:35           13.4  1.88\n",
      "1   4/1/2025         Home     2:28:12           16.8  2.35\n",
      "2   4/2/2025         Home     1:28:56           10.0  1.40\n",
      "3   4/3/2025         Home     1:58:33           13.4  1.88\n",
      "4   4/4/2025         Home     1:58:31           13.4  1.88\n"
     ]
    }
   ],
   "source": [
    "print(charging_data)"
   ]
  },
  {
   "cell_type": "code",
   "execution_count": 38,
   "id": "8f5f47a2",
   "metadata": {},
   "outputs": [],
   "source": [
    "driving_data[\"trip_cost\"] = (driving_data[\"miles\"] / mpg) * gas\n",
    "driving_data[\"trip_cost\"] = driving_data[\"trip_cost\"].round(2)"
   ]
  },
  {
   "cell_type": "code",
   "execution_count": 39,
   "id": "934e4d93",
   "metadata": {},
   "outputs": [
    {
     "name": "stdout",
     "output_type": "stream",
     "text": [
      "        date  miles  trip_cost\n",
      "0 2025-03-31   65.9       9.18\n",
      "1 2025-04-01   53.5       7.45\n",
      "2 2025-04-02   50.6       7.05\n",
      "3 2025-04-03   49.6       6.91\n",
      "4 2025-04-04   49.7       6.92\n"
     ]
    }
   ],
   "source": [
    "driving_data[\"date\"] = pd.to_datetime(driving_data[\"date\"])\n",
    "\n",
    "daily_summary = driving_data.groupby(\"date\", as_index=False).agg({\n",
    "    \"miles\": \"sum\",\n",
    "    \"trip_cost\": \"sum\"\n",
    "})\n",
    "\n",
    "# Round trip_cost for neatness\n",
    "daily_summary[\"trip_cost\"] = daily_summary[\"trip_cost\"].round(2)\n",
    "\n",
    "# Show result\n",
    "print(daily_summary)"
   ]
  },
  {
   "cell_type": "code",
   "execution_count": 42,
   "id": "2c93a3e7",
   "metadata": {},
   "outputs": [],
   "source": [
    "average_cost = driving_data[\"trip_cost\"].mean()\n",
    "average_charge = charging_data[\"cost\"].mean()\n",
    "\n",
    "total_cost = driving_data[\"trip_cost\"].sum()\n",
    "total_charge = charging_data[\"cost\"].sum()"
   ]
  },
  {
   "cell_type": "code",
   "execution_count": 43,
   "id": "6840820d",
   "metadata": {},
   "outputs": [
    {
     "name": "stdout",
     "output_type": "stream",
     "text": [
      "The average cost if I had a gas car would be: $3.41 and the average charge is $1.88\n",
      "The total cost if I had a gas car would be: $37.51 and the total charge is $9.39\n"
     ]
    }
   ],
   "source": [
    "print(f\"The average cost if I had a gas car would be: ${average_cost:.2f} and the average charge is ${average_charge:.2f}\")\n",
    "print(f\"The total cost if I had a gas car would be: ${total_cost:.2f} and the total charge is ${total_charge:.2f}\")"
   ]
  },
  {
   "cell_type": "code",
   "execution_count": null,
   "id": "a796b727",
   "metadata": {},
   "outputs": [],
   "source": []
  }
 ],
 "metadata": {
  "kernelspec": {
   "display_name": "Python 3 (ipykernel)",
   "language": "python",
   "name": "python3"
  },
  "language_info": {
   "codemirror_mode": {
    "name": "ipython",
    "version": 3
   },
   "file_extension": ".py",
   "mimetype": "text/x-python",
   "name": "python",
   "nbconvert_exporter": "python",
   "pygments_lexer": "ipython3",
   "version": "3.9.13"
  }
 },
 "nbformat": 4,
 "nbformat_minor": 5
}
